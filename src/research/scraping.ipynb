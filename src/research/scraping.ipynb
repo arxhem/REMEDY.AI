{
 "cells": [
  {
   "cell_type": "code",
   "execution_count": 21,
   "metadata": {},
   "outputs": [],
   "source": [
    "from selenium import webdriver\n",
    "from selenium.webdriver.chrome.options import Options\n",
    "from bs4 import BeautifulSoup\n",
    "import logging\n",
    "import time\n",
    "# Set up Chrome options\n",
    "chrome_options = Options()\n",
    "chrome_options.add_argument('--headless')  # Run in headless mode (without opening browser window)\n",
    "chrome_options.add_argument('--no-sandbox')\n",
    "chrome_options.add_argument('--disable-dev-shm-usage')\n",
    "\n",
    "# Create a new WebDriver instance\n",
    "\n"
   ]
  },
  {
   "cell_type": "code",
   "execution_count": 30,
   "metadata": {},
   "outputs": [],
   "source": [
    "def scrapFromLocation(speciality, location):\n",
    "    # Open the URL\n",
    "    driver = webdriver.Chrome(options=chrome_options)\n",
    "    speciality.replace(' ', '%20')\n",
    "    location.replace(' ', '%20')\n",
    "    driver.get(f'https://www.practo.com/search/doctors?results_type=doctor&q=%5B%7B%22word%22%3A%22{speciality}%22%2C%22autocompleted%22%3Atrue%2C%22category%22%3A%22subspeciality%22%7D%2C%7B%22word%22%3A%22{location}%22%2C%22autocompleted%22%3Atrue%2C%22category%22%3A%22locality%22%7D%5D&city=Bangalore')\n",
    "    # Get page source and parse it with BeautifulSoup\n",
    "    soup = BeautifulSoup(driver.page_source, 'html.parser')\n",
    "\n",
    "    # Keep scrolling to the bottom of the page until no more content is loaded\n",
    "    while True:\n",
    "        # Scroll to the bottom of the page\n",
    "        driver.execute_script(\"window.scrollTo(0, document.body.scrollHeight);\")\n",
    "\n",
    "        # Wait for some time to allow content to load\n",
    "        time.sleep(2)  # Adjust delay as needed\n",
    "        last_height = driver.execute_script(\"return document.body.scrollHeight\")\n",
    "        # Check if the page height has changed after scrolling\n",
    "        new_height = driver.execute_script(\"return document.body.scrollHeight\")\n",
    "        if new_height == last_height:\n",
    "            break\n",
    "        last_height = new_height\n",
    "\n",
    "    # Get the updated page source after scrolling\n",
    "    soup = BeautifulSoup(driver.page_source, 'html.parser')\n",
    "\n",
    "    # Navigate to the container with all doctor cards\n",
    "    doctor_cards = soup.find_all('div', class_='u-border-general--bottom')\n",
    "\n",
    "    intro='https://www.practo.com/'\n",
    "    urls=[]\n",
    "    # Extract URLs from each card\n",
    "    for card in doctor_cards:\n",
    "        try:\n",
    "            # Try to find the div containing the <a> tag\n",
    "            div_tag = card.find('div', class_='info-section')\n",
    "            if div_tag:\n",
    "                # Within the div, find the <a> tag\n",
    "                anchor_tag = div_tag.find('a', href=True)\n",
    "                if anchor_tag:\n",
    "                    url = anchor_tag['href']\n",
    "                    urls.append(intro+url)\n",
    "                else:\n",
    "                    logging.info(\"URL not found within the div.\")\n",
    "            else:\n",
    "                logging.info(\"Div tag not found in the card.\")\n",
    "\n",
    "            \n",
    "        except AttributeError as e:\n",
    "            logging.info(f\"AttributeError: {e}\")\n",
    "    logging.info(f\"Found {urls} URLs.\")\n",
    "    # Close the WebDriver\n",
    "    driver.quit()\n",
    "    return urls"
   ]
  },
  {
   "cell_type": "code",
   "execution_count": 31,
   "metadata": {},
   "outputs": [],
   "source": [
    "urls=scrapFromLocation('Dentist','Yelahanka')"
   ]
  },
  {
   "cell_type": "code",
   "execution_count": 32,
   "metadata": {},
   "outputs": [
    {
     "data": {
      "text/plain": [
       "16"
      ]
     },
     "execution_count": 32,
     "metadata": {},
     "output_type": "execute_result"
    }
   ],
   "source": [
    "len(urls)"
   ]
  },
  {
   "cell_type": "code",
   "execution_count": null,
   "metadata": {},
   "outputs": [],
   "source": []
  }
 ],
 "metadata": {
  "kernelspec": {
   "display_name": "ragaas",
   "language": "python",
   "name": "python3"
  },
  "language_info": {
   "codemirror_mode": {
    "name": "ipython",
    "version": 3
   },
   "file_extension": ".py",
   "mimetype": "text/x-python",
   "name": "python",
   "nbconvert_exporter": "python",
   "pygments_lexer": "ipython3",
   "version": "3.10.14"
  }
 },
 "nbformat": 4,
 "nbformat_minor": 2
}
